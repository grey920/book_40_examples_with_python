{
 "cells": [
  {
   "cell_type": "code",
   "execution_count": 3,
   "metadata": {},
   "outputs": [
    {
     "name": "stdout",
     "output_type": "stream",
     "text": [
      "안녕하세요\n",
      "저는 정겨운입니다\n",
      "안녕하세요\n",
      "저는 정겨운입니다\n",
      "안녕하세요\n",
      "저는 정겨운입니다\n",
      "안녕하세요\n",
      "저는 정겨운입니다\n"
     ]
    }
   ],
   "source": [
    "def func():\n",
    "    print(\"안녕하세요\")\n",
    "    print(\"저는 정겨운입니다\")\n",
    "\n",
    "\n",
    "for i in range(3):\n",
    "    func()"
   ]
  },
  {
   "cell_type": "code",
   "execution_count": 4,
   "metadata": {},
   "outputs": [
    {
     "name": "stdout",
     "output_type": "stream",
     "text": [
      "8\n"
     ]
    }
   ],
   "source": [
    "def funcAdd( a, b ):\n",
    "    return a + b\n",
    "\n",
    "c = funcAdd( 3, 5 )\n",
    "print( c )"
   ]
  },
  {
   "cell_type": "code",
   "execution_count": 5,
   "metadata": {},
   "outputs": [
    {
     "name": "stdout",
     "output_type": "stream",
     "text": [
      "6\n"
     ]
    }
   ],
   "source": [
    "def funcMux( a, b ):\n",
    "    mux = a * b\n",
    "    return mux\n",
    "c = funcMux( 2, 3 )\n",
    "print( c )"
   ]
  },
  {
   "cell_type": "code",
   "execution_count": 8,
   "metadata": {},
   "outputs": [
    {
     "name": "stdout",
     "output_type": "stream",
     "text": [
      "4 3\n",
      "3\n",
      "4\n"
     ]
    }
   ],
   "source": [
    "# 파이썬의 함수는 여러 개의 값을 반환할 수 있다(!!)\n",
    "def funcAddMux( a, b ):\n",
    "    add = a + b\n",
    "    mux = a * b\n",
    "    return add, mux\n",
    "\n",
    "a, b = funcAddMux( 1, 3 )\n",
    "print( a, b )\n",
    "\n",
    "# 반환되는 값 중 선택하여 값을 받을 수 있다. _를 사용하면 값을 받지 않겠다는 뜻이다\n",
    "_, b = funcAddMux( 1, 3 )\n",
    "print( b ) \n",
    "a, _ = funcAddMux( 1, 3 )\n",
    "print( a )"
   ]
  }
 ],
 "metadata": {
  "kernelspec": {
   "display_name": "Python 3.9.7 ('base')",
   "language": "python",
   "name": "python3"
  },
  "language_info": {
   "codemirror_mode": {
    "name": "ipython",
    "version": 3
   },
   "file_extension": ".py",
   "mimetype": "text/x-python",
   "name": "python",
   "nbconvert_exporter": "python",
   "pygments_lexer": "ipython3",
   "version": "3.9.7"
  },
  "orig_nbformat": 4,
  "vscode": {
   "interpreter": {
    "hash": "54ab389fc926684c2066dd4c8ff30d6ed6bc605b5e029970b638a500d1fda1a0"
   }
  }
 },
 "nbformat": 4,
 "nbformat_minor": 2
}
