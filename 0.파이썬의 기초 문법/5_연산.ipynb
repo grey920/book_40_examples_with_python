{
 "cells": [
  {
   "cell_type": "code",
   "execution_count": 1,
   "metadata": {},
   "outputs": [
    {
     "name": "stdout",
     "output_type": "stream",
     "text": [
      "더하기: 30\n",
      "뺴기: -10\n",
      "곱하기: 200\n",
      "나누기: 0.5\n"
     ]
    }
   ],
   "source": [
    "print( \"더하기:\", 10 + 20 )\n",
    "print( \"뺴기:\", 10 - 20 )\n",
    "print( \"곱하기:\", 10 * 20 )\n",
    "print( \"나누기:\", 10 / 20 )"
   ]
  },
  {
   "cell_type": "code",
   "execution_count": 2,
   "metadata": {},
   "outputs": [
    {
     "name": "stdout",
     "output_type": "stream",
     "text": [
      "c**2:  100\n",
      "c**3:  1000\n",
      "c**4:  10000\n"
     ]
    }
   ],
   "source": [
    "# 거듭제곱\n",
    "print( \"c**2: \", 10**2 )\n",
    "print( \"c**3: \", 10**3 )\n",
    "print( \"c**4: \", 10**4 )"
   ]
  },
  {
   "cell_type": "code",
   "execution_count": 3,
   "metadata": {},
   "outputs": [
    {
     "name": "stdout",
     "output_type": "stream",
     "text": [
      "몫:  6\n",
      "나머지:  4\n"
     ]
    }
   ],
   "source": [
    "# 몫 연산은 // , 나머지 연산은 %\n",
    "print( \"몫: \", 40 // 6 )\n",
    "print( \"나머지: \", 40 % 6 )"
   ]
  },
  {
   "cell_type": "code",
   "execution_count": 4,
   "metadata": {},
   "outputs": [
    {
     "name": "stdout",
     "output_type": "stream",
     "text": [
      "0\n",
      "1\n",
      "1\n",
      "1\n",
      "False\n",
      "True\n",
      "True\n",
      "True\n"
     ]
    }
   ],
   "source": [
    "# 논리연산 : or, and, not\n",
    "\n",
    "# or : 값이 하나라도 참이면 참. 둘 다 false여야 false다. \n",
    "print( 0 or 0 )\n",
    "print( 0 or 1 )\n",
    "print( 1 or 0 )\n",
    "print( 1 or 1 )\n",
    "\n",
    "print( False or False )\n",
    "print( False or True )\n",
    "print( True or False )\n",
    "print( True or True )"
   ]
  },
  {
   "cell_type": "code",
   "execution_count": 5,
   "metadata": {},
   "outputs": [
    {
     "name": "stdout",
     "output_type": "stream",
     "text": [
      "0\n",
      "0\n",
      "0\n",
      "1\n",
      "False\n",
      "False\n",
      "False\n",
      "True\n"
     ]
    }
   ],
   "source": [
    "# and: 모든 값이 참이어야 참\n",
    "print( 0 and 0 )\n",
    "print( 0 and 1 )\n",
    "print( 1 and 0 )\n",
    "print( 1 and 1 )\n",
    "\n",
    "print( False and False )\n",
    "print( False and True )\n",
    "print( True and False )\n",
    "print( True and True )"
   ]
  },
  {
   "cell_type": "code",
   "execution_count": 6,
   "metadata": {},
   "outputs": [
    {
     "name": "stdout",
     "output_type": "stream",
     "text": [
      "True\n",
      "False\n",
      "True\n",
      "False\n"
     ]
    }
   ],
   "source": [
    "# not: 자신의 상태를 반전시킨다. \n",
    "print( not 0 )\n",
    "print( not 1 )\n",
    "print( not False )\n",
    "print( not True )"
   ]
  },
  {
   "cell_type": "code",
   "execution_count": 14,
   "metadata": {},
   "outputs": [
    {
     "name": "stdout",
     "output_type": "stream",
     "text": [
      "True\n",
      "True\n",
      "True\n",
      "False\n",
      "True\n",
      "False\n",
      "========== in ==========\n",
      "True\n",
      "False\n",
      "True\n",
      "True\n",
      "True\n",
      "True\n",
      "False\n"
     ]
    }
   ],
   "source": [
    "# 비교연산\n",
    "\n",
    "print( 10 == 10 )\n",
    "print( 10 >= 10 )\n",
    "print( 10 <= 10 )\n",
    "print( 10 < 5 )\n",
    "print( 10 > 5 )\n",
    "print( 10 != 10 )\n",
    "\n",
    "print('========== in ==========')\n",
    "\n",
    "#  in: 리스트나 문자열에서 포함된 값을 비교. \n",
    "a_list = [ 'a', 2, 'hello', 'grey', 3 ]\n",
    "print( 'a' in a_list )\n",
    "print( 1 in a_list )\n",
    "print( 'grey' in a_list )\n",
    "print( 3 in a_list )\n",
    "\n",
    "a_str = \"hello python \"\n",
    "print( \"python\" in a_str )\n",
    "print( \"lo\" in a_str )\n",
    "print( \"40\" in a_str )"
   ]
  }
 ],
 "metadata": {
  "kernelspec": {
   "display_name": "Python 3.9.7 ('base')",
   "language": "python",
   "name": "python3"
  },
  "language_info": {
   "codemirror_mode": {
    "name": "ipython",
    "version": 3
   },
   "file_extension": ".py",
   "mimetype": "text/x-python",
   "name": "python",
   "nbconvert_exporter": "python",
   "pygments_lexer": "ipython3",
   "version": "3.9.7"
  },
  "orig_nbformat": 4,
  "vscode": {
   "interpreter": {
    "hash": "54ab389fc926684c2066dd4c8ff30d6ed6bc605b5e029970b638a500d1fda1a0"
   }
  }
 },
 "nbformat": 4,
 "nbformat_minor": 2
}
