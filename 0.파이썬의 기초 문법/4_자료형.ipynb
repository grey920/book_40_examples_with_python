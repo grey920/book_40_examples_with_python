{
 "cells": [
  {
   "cell_type": "code",
   "execution_count": 1,
   "metadata": {},
   "outputs": [
    {
     "name": "stdout",
     "output_type": "stream",
     "text": [
      "[1, 2, 3, 4, 5]\n",
      "1\n",
      "2\n"
     ]
    }
   ],
   "source": [
    "a_list = [ 1, 2, 3, 4, 5 ]\n",
    "\n",
    "print( a_list )\n",
    "print( a_list[0] )\n",
    "print( a_list[1] )"
   ]
  },
  {
   "cell_type": "code",
   "execution_count": 2,
   "metadata": {},
   "outputs": [
    {
     "name": "stdout",
     "output_type": "stream",
     "text": [
      "[1, 2]\n",
      "[3, 4, 5]\n"
     ]
    }
   ],
   "source": [
    "print( a_list[:2] ) # 인덱스0부터 타겟 인덱스-1 까지 출력\n",
    "print( a_list[2:] ) # 타겟 인덱스부터 끝까지 출력"
   ]
  },
  {
   "cell_type": "code",
   "execution_count": 4,
   "metadata": {},
   "outputs": [
    {
     "name": "stdout",
     "output_type": "stream",
     "text": [
      "[1, 2, 3]\n"
     ]
    }
   ],
   "source": [
    "b_list = []\n",
    "b_list.append(1) # append() : 리스트에 순차적으로 데이터 삽입\n",
    "b_list.append(2)\n",
    "b_list.append(3)\n",
    "\n",
    "print( b_list )"
   ]
  },
  {
   "cell_type": "code",
   "execution_count": 6,
   "metadata": {},
   "outputs": [
    {
     "name": "stdout",
     "output_type": "stream",
     "text": [
      "[1, 3.14, 'hello', [1, 2, 3]]\n",
      "[3.14, 'hello']\n"
     ]
    }
   ],
   "source": [
    "# 리스트에는 여러 타입의 변수 형태가 저장될 수 있다\n",
    "c_list = [1, 3.14, \"hello\", [1,2,3] ]\n",
    "\n",
    "print( c_list )\n",
    "print( c_list[1:3] )"
   ]
  },
  {
   "cell_type": "code",
   "execution_count": 7,
   "metadata": {},
   "outputs": [
    {
     "name": "stdout",
     "output_type": "stream",
     "text": [
      "[1, 2, 3, 4, 5]\n",
      "[5, 2, 3, 4, 5]\n"
     ]
    }
   ],
   "source": [
    "d_list = [1, 2, 3, 4, 5 ]\n",
    "print( d_list )\n",
    "\n",
    "# 리스트의 요소 값 변경하기\n",
    "d_list[0] = 5\n",
    "print( d_list )"
   ]
  },
  {
   "cell_type": "code",
   "execution_count": 8,
   "metadata": {},
   "outputs": [
    {
     "name": "stdout",
     "output_type": "stream",
     "text": [
      "(1, 2, 3, 4, 5)\n"
     ]
    }
   ],
   "source": [
    "# 튜플형 : 소괄호로 데이터가 묶여있다. 리스트와 비슷하나 데이터를 변경할 수 없다는 것이 차이점이다. \n",
    "a_tuple = ( 1, 2, 3, 4, 5 )\n",
    "print( a_tuple )\n",
    "\n",
    "# TypeError: 'tuple' object does not support item assignment\n",
    "# a_tuple[0] = 5"
   ]
  },
  {
   "cell_type": "code",
   "execution_count": 12,
   "metadata": {},
   "outputs": [
    {
     "name": "stdout",
     "output_type": "stream",
     "text": [
      "{'a': 1, 'b': 2, 'c': '3'}\n",
      "1\n",
      "2\n",
      "3\n"
     ]
    }
   ],
   "source": [
    "# 딕셔너리형: key와 value 형태로 구성됨. {} 중괄호로 데이터가 묶여있다. \n",
    "a_dic = { 'a':1, 'b':2, 'c':'3' } \n",
    "\n",
    "print( a_dic )\n",
    "print( a_dic['a'])\n",
    "print( a_dic['b'])\n",
    "print( a_dic['c'])"
   ]
  },
  {
   "cell_type": "code",
   "execution_count": 13,
   "metadata": {},
   "outputs": [
    {
     "name": "stdout",
     "output_type": "stream",
     "text": [
      "a\n",
      "[1, 2, 3]\n",
      "3\n"
     ]
    }
   ],
   "source": [
    "# 딕셔너리도 리스트처럼 다양한 형태의 데이터를 넣을 수 있다\n",
    "b_dic = { 1:'a', 'b':[1,2,3], 'c':3 }\n",
    "\n",
    "print( b_dic[1] )\n",
    "print( b_dic['b'] )\n",
    "print( b_dic['c'] )"
   ]
  },
  {
   "cell_type": "code",
   "execution_count": 14,
   "metadata": {},
   "outputs": [
    {
     "name": "stdout",
     "output_type": "stream",
     "text": [
      "{1: 'a', 'b': [1, 2, 3], 'c': 3, 'd': 4}\n"
     ]
    }
   ],
   "source": [
    "# 새로운 키값과 데이터를 입력하여 데이터 추가하기\n",
    "b_dic['d'] = 4\n",
    "print( b_dic )"
   ]
  },
  {
   "cell_type": "code",
   "execution_count": 15,
   "metadata": {},
   "outputs": [
    {
     "name": "stdout",
     "output_type": "stream",
     "text": [
      "{1, 2, 3, 4, 5}\n"
     ]
    }
   ],
   "source": [
    "# 집합형: set(). 중복이 없는 자료형이다. set() 안에 리스트[]의 형태로 데이터를 넣어준다.\n",
    "a_set = set( [1,2,3,4,5] )\n",
    "print( a_set )"
   ]
  },
  {
   "cell_type": "code",
   "execution_count": 16,
   "metadata": {},
   "outputs": [
    {
     "name": "stdout",
     "output_type": "stream",
     "text": [
      "{1, 2, 3, 4, 5, 6}\n"
     ]
    }
   ],
   "source": [
    "b_set = set( [1, 1, 2, 2, 3, 3, 3, 4, 5, 6] )\n",
    "print( b_set )"
   ]
  },
  {
   "cell_type": "code",
   "execution_count": 17,
   "metadata": {},
   "outputs": [
    {
     "name": "stdout",
     "output_type": "stream",
     "text": [
      "{'t', 's', 'p', '0', 'h', 'y', '4', 'o', 'n'}\n"
     ]
    }
   ],
   "source": [
    "# set()형은 순서가 없다. 따라서 데이터를 순서대로 정렬해야 하는 곳에서는 사용할 수 없다.\n",
    "c_set = set( \"python40s\" )\n",
    "print( c_set )"
   ]
  }
 ],
 "metadata": {
  "kernelspec": {
   "display_name": "Python 3.9.7 ('base')",
   "language": "python",
   "name": "python3"
  },
  "language_info": {
   "codemirror_mode": {
    "name": "ipython",
    "version": 3
   },
   "file_extension": ".py",
   "mimetype": "text/x-python",
   "name": "python",
   "nbconvert_exporter": "python",
   "pygments_lexer": "ipython3",
   "version": "3.9.7"
  },
  "orig_nbformat": 4,
  "vscode": {
   "interpreter": {
    "hash": "54ab389fc926684c2066dd4c8ff30d6ed6bc605b5e029970b638a500d1fda1a0"
   }
  }
 },
 "nbformat": 4,
 "nbformat_minor": 2
}
