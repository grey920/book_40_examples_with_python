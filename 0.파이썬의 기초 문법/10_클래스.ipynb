{
 "cells": [
  {
   "cell_type": "code",
   "execution_count": 1,
   "metadata": {},
   "outputs": [
    {
     "name": "stdout",
     "output_type": "stream",
     "text": [
      "hello\n",
      "hi\n",
      "hello\n",
      "hi\n"
     ]
    }
   ],
   "source": [
    "class Greet():\n",
    "    \n",
    "    # method: 클래스 안의 함수는 메소드라 부른다\n",
    "    def hello( self ):\n",
    "        print( \"hello\" )\n",
    "    def hi( self ):\n",
    "        print( \"hi\" )\n",
    "\n",
    "\n",
    "human1 = Greet()\n",
    "human2 = Greet()\n",
    "\n",
    "human1.hello()\n",
    "human1.hi()\n",
    "\n",
    "human2.hello()\n",
    "human2.hi()"
   ]
  },
  {
   "cell_type": "code",
   "execution_count": 2,
   "metadata": {},
   "outputs": [
    {
     "name": "stdout",
     "output_type": "stream",
     "text": [
      "이름: 정겨운, 나이: 30, 좋아하는 것:음악듣기 \n",
      "이름: 정다와, 나이: 40, 좋아하는 것:돈 \n"
     ]
    }
   ],
   "source": [
    "class Student():\n",
    "    # __init__ 메소드: 객체를 만들 떄 자동으로 동작하는 메서드(기본생성자).\n",
    "    # self는 자기 자신으로 (this) 클래스 메서드(함수)를 만들 때 꼭 붙여준다 (호,, 파이썬은 자바처럼 미리 변수를 선언하지 않아도 되나보군)\n",
    "    def __init__( self, name, age, like ):\n",
    "        self.name = name\n",
    "        self.age = age\n",
    "        self.like = like \n",
    "    def studentInfo( self ):\n",
    "        print(f\"이름: {self.name}, 나이: {self.age}, 좋아하는 것:{self.like} \")\n",
    "\n",
    "정겨운 = Student( \"정겨운\", 30, \"음악듣기\" )\n",
    "정다와 = Student( \"정다와\", 40, \"돈\" )\n",
    "\n",
    "정겨운.studentInfo()\n",
    "정다와.studentInfo()"
   ]
  },
  {
   "cell_type": "code",
   "execution_count": 4,
   "metadata": {},
   "outputs": [
    {
     "name": "stdout",
     "output_type": "stream",
     "text": [
      "엄마는 \n",
      "요리를 잘한다\n",
      "비가 오면 머리가 아프다\n",
      "딸은 \n",
      "요리를 잘한다\n",
      "비가 오면 머리가 아프다\n",
      "고집이 세다\n"
     ]
    }
   ],
   "source": [
    "# 클래스 상속\n",
    "class Mother():\n",
    "    def characteristic( self ):\n",
    "        print(\"요리를 잘한다\")\n",
    "        print(\"비가 오면 머리가 아프다\")\n",
    "        \n",
    "class Daughter( Mother ):\n",
    "    def characteristic(self):\n",
    "        super().characteristic()\n",
    "        print(\"고집이 세다\")\n",
    "        \n",
    "\n",
    "엄마 = Mother()\n",
    "딸 = Daughter()\n",
    "print(\"엄마는 \")\n",
    "엄마.characteristic()\n",
    "\n",
    "print(\"딸은 \")\n",
    "딸.characteristic()"
   ]
  },
  {
   "cell_type": "code",
   "execution_count": 5,
   "metadata": {},
   "outputs": [
    {
     "name": "stdout",
     "output_type": "stream",
     "text": [
      "엄마는 \n",
      "요리를 잘한다\n",
      "비가 오면 머리가 아프다\n",
      "딸은 \n",
      "요리를 잘한다\n",
      "비가 오면 머리가 아프다\n",
      "고집이 세다\n"
     ]
    }
   ],
   "source": [
    "# __init__을 사용하여 객체를 생성하자마자 출력하기\n",
    "\n",
    "class Mother():\n",
    "    def __init__( self ):\n",
    "        print(\"요리를 잘한다\")\n",
    "        print(\"비가 오면 머리가 아프다\")\n",
    "        \n",
    "class Daughter( Mother ):\n",
    "    def __init__( self ):\n",
    "        super().__init__() # 상속받은 클래스의 __init__을 실행한다\n",
    "        print(\"고집이 세다\")\n",
    "        \n",
    "\n",
    "print(\"엄마는 \")\n",
    "엄마 = Mother()\n",
    "\n",
    "print( \"딸은 \")\n",
    "딸 = Daughter()"
   ]
  }
 ],
 "metadata": {
  "kernelspec": {
   "display_name": "Python 3.9.7 ('base')",
   "language": "python",
   "name": "python3"
  },
  "language_info": {
   "codemirror_mode": {
    "name": "ipython",
    "version": 3
   },
   "file_extension": ".py",
   "mimetype": "text/x-python",
   "name": "python",
   "nbconvert_exporter": "python",
   "pygments_lexer": "ipython3",
   "version": "3.9.7"
  },
  "orig_nbformat": 4,
  "vscode": {
   "interpreter": {
    "hash": "54ab389fc926684c2066dd4c8ff30d6ed6bc605b5e029970b638a500d1fda1a0"
   }
  }
 },
 "nbformat": 4,
 "nbformat_minor": 2
}
