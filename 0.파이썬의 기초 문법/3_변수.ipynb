{
 "cells": [
  {
   "cell_type": "markdown",
   "metadata": {},
   "source": [
    "<!-- \n",
    "int() : 문자열을 => 숫자형으로 변환\n",
    "str() : 숫자열을 => 문자열로 변환\n",
    " -->"
   ]
  },
  {
   "cell_type": "code",
   "execution_count": 4,
   "metadata": {},
   "outputs": [
    {
     "name": "stdout",
     "output_type": "stream",
     "text": [
      "20\n"
     ]
    }
   ],
   "source": [
    "a = 10\n",
    "b = 10\n",
    "c = a + b\n",
    "\n",
    "print( c )"
   ]
  },
  {
   "cell_type": "code",
   "execution_count": 5,
   "metadata": {},
   "outputs": [
    {
     "name": "stdout",
     "output_type": "stream",
     "text": [
      "30\n"
     ]
    }
   ],
   "source": [
    "d = '10'\n",
    "\n",
    "print( c + int( d ) ) # int() : 문자열 -> 숫자형"
   ]
  },
  {
   "cell_type": "code",
   "execution_count": 6,
   "metadata": {},
   "outputs": [
    {
     "name": "stdout",
     "output_type": "stream",
     "text": [
      "2010\n"
     ]
    }
   ],
   "source": [
    "d = '10'\n",
    "print( str(c) + d ) # str() : 숫자형 -> 문자열"
   ]
  },
  {
   "cell_type": "code",
   "execution_count": 7,
   "metadata": {},
   "outputs": [
    {
     "name": "stdout",
     "output_type": "stream",
     "text": [
      "13.14\n"
     ]
    }
   ],
   "source": [
    "e = 3.14\n",
    "f = 10\n",
    "\n",
    "print( e + f )"
   ]
  },
  {
   "cell_type": "code",
   "execution_count": 8,
   "metadata": {},
   "outputs": [
    {
     "name": "stdout",
     "output_type": "stream",
     "text": [
      "20.0\n"
     ]
    }
   ],
   "source": [
    "a = 10\n",
    "b = 10\n",
    "c = float( a ) + float( b ) # float() : 소숫점형으로 변환\n",
    "\n",
    "print( c )"
   ]
  },
  {
   "cell_type": "code",
   "execution_count": 9,
   "metadata": {},
   "outputs": [
    {
     "name": "stdout",
     "output_type": "stream",
     "text": [
      "True\n",
      "False\n",
      "<class 'bool'>\n",
      "<class 'bool'>\n",
      "1\n",
      "0\n",
      "<class 'int'>\n",
      "<class 'int'>\n"
     ]
    }
   ],
   "source": [
    "# 초기값을 True 또는 False로 주면 bool형으로 변수가 초기화된다.\n",
    "a_bool = True\n",
    "b_bool = False\n",
    "a_int = 1\n",
    "b_int = 0\n",
    "\n",
    "print( a_bool )\n",
    "print( b_bool )\n",
    "print( type( a_bool ) )\n",
    "print( type( b_bool ) )\n",
    "\n",
    "print( a_int )\n",
    "print( b_int )\n",
    "print( type( a_int ) )\n",
    "print( type( b_int ) )"
   ]
  }
 ],
 "metadata": {
  "kernelspec": {
   "display_name": "Python 3.9.7 ('base')",
   "language": "python",
   "name": "python3"
  },
  "language_info": {
   "codemirror_mode": {
    "name": "ipython",
    "version": 3
   },
   "file_extension": ".py",
   "mimetype": "text/x-python",
   "name": "python",
   "nbconvert_exporter": "python",
   "pygments_lexer": "ipython3",
   "version": "3.9.7"
  },
  "orig_nbformat": 4,
  "vscode": {
   "interpreter": {
    "hash": "54ab389fc926684c2066dd4c8ff30d6ed6bc605b5e029970b638a500d1fda1a0"
   }
  }
 },
 "nbformat": 4,
 "nbformat_minor": 2
}
