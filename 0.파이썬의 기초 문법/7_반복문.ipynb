{
 "cells": [
  {
   "cell_type": "code",
   "execution_count": 2,
   "metadata": {},
   "outputs": [
    {
     "name": "stdout",
     "output_type": "stream",
     "text": [
      "0\n",
      "1\n",
      "2\n",
      "3\n",
      "4\n",
      "5\n",
      "6\n",
      "5\n",
      "6\n",
      "7\n",
      "8\n",
      "9\n"
     ]
    }
   ],
   "source": [
    "# while문: 참과 거짓을 기준으로 \"조건이 거짓이 되기 전까지\" 무한 반복적으로 실행\n",
    "# for문: 반복되는 부분이나 범위를 구체적으로 지정해서 실행\n",
    "\n",
    "# for문의 range(n): 0부터 n-1까지 반복\n",
    "for i in range(7):\n",
    "    print( i )\n"
   ]
  },
  {
   "cell_type": "code",
   "execution_count": 3,
   "metadata": {},
   "outputs": [
    {
     "name": "stdout",
     "output_type": "stream",
     "text": [
      "5\n",
      "6\n",
      "7\n",
      "8\n",
      "9\n"
     ]
    }
   ],
   "source": [
    "# for문의 range(a, b): a부터 b-1까지 반복\n",
    "for i in range( 5, 10 ):\n",
    "    print( i )"
   ]
  },
  {
   "cell_type": "code",
   "execution_count": 4,
   "metadata": {},
   "outputs": [
    {
     "name": "stdout",
     "output_type": "stream",
     "text": [
      "10\n",
      "9\n",
      "8\n",
      "7\n",
      "6\n"
     ]
    }
   ],
   "source": [
    "# 세 번째 인자에 -1을 입력하면 a부터 b+1까지 역순으로 출력\n",
    "for i in range( 10, 5, -1 ):\n",
    "    print( i )"
   ]
  },
  {
   "cell_type": "code",
   "execution_count": 7,
   "metadata": {},
   "outputs": [
    {
     "name": "stdout",
     "output_type": "stream",
     "text": [
      "1\n",
      "2\n",
      "3\n",
      "4\n",
      "5\n",
      "안녕\n",
      "하세요\n",
      "=========== str ==========\n",
      "h\n",
      "e\n",
      "l\n",
      "l\n",
      "o\n",
      " \n",
      "p\n",
      "y\n",
      "t\n",
      "h\n",
      "o\n",
      "n\n"
     ]
    }
   ],
   "source": [
    "# list에서 for문을 이용하여 값 출력\n",
    "a_list = [ 1, 2, 3, 4, 5, \"안녕\", \"하세요\" ]\n",
    "\n",
    "for i in a_list: # a_list의 길이만큼 for문 동작\n",
    "    print( i )\n",
    "    \n",
    "print(\"=========== str ==========\")\n",
    "    \n",
    "a_str = \"hello python\"\n",
    "for i in a_str:\n",
    "    print( i )"
   ]
  },
  {
   "cell_type": "code",
   "execution_count": 9,
   "metadata": {},
   "outputs": [
    {
     "name": "stdout",
     "output_type": "stream",
     "text": [
      "i= 0 k= 홍길동\n",
      "i= 1 k= 정겨운\n",
      "i= 2 k= 정다와\n",
      "=========\n",
      "홍길동 500\n",
      "정겨운 30\n",
      "정다와 17\n",
      "========= \n",
      "홍길동 500\n",
      "정겨운 30\n",
      "정다와 17\n"
     ]
    }
   ],
   "source": [
    "name_list = [ \"홍길동\", \"정겨운\", \"정다와\" ]\n",
    "age_list = [500, 30, 17 ]\n",
    "\n",
    "# enumerate() 안에 리스트, 문자열 등을 넣으면 i로 인덱스, k로 값을 가져올 수 있다.\n",
    "for i, k in enumerate( name_list ):\n",
    "    print( \"i=\", i, end=' ' ) #end를 주지 않으면 기본값으로 개행이 되기 때문에 개행하지 않기 위해 end=\" \"를 넣어줌\n",
    "    print( \"k=\", k )\n",
    "print(\"=========\")\n",
    "for i, k in enumerate( name_list ):\n",
    "    print( k, end=\" \" )\n",
    "    print( age_list[i] )\n",
    "print(\"========= \")\n",
    "for i, k in enumerate( name_list ):\n",
    "    print( name_list[i], end=\" \" )\n",
    "    print( age_list[i] )"
   ]
  },
  {
   "cell_type": "code",
   "execution_count": 10,
   "metadata": {},
   "outputs": [
    {
     "name": "stdout",
     "output_type": "stream",
     "text": [
      "홍길동 500\n",
      "정겨운 30\n",
      "정다와 17\n"
     ]
    }
   ],
   "source": [
    "name_list = [ \"홍길동\", \"정겨운\", \"정다와\" ]\n",
    "age_list = [500, 30, 17 ]\n",
    "\n",
    "# enumerage 대신 len()으로 리스트의 길이만큼 반복한다\n",
    "for i in range( len( name_list ) ):\n",
    "    print( name_list[i], end=\" \" )\n",
    "    print( age_list[i] )"
   ]
  },
  {
   "cell_type": "code",
   "execution_count": 12,
   "metadata": {},
   "outputs": [
    {
     "name": "stdout",
     "output_type": "stream",
     "text": [
      "[0, 1, 2, 3, 4, 5, 6, 7, 8, 9]\n",
      "[0, 1, 2, 3, 4, 5, 6, 7, 8, 9]\n"
     ]
    }
   ],
   "source": [
    "test_list = [ i for i in range(10) ] # test_list에 0부터 9까지 반복하여 i 값을 넣어라\n",
    "print( test_list )\n",
    "\n",
    "# 리스트 생성시 초기에 원하는 값을 넣을때 사용하는 방법\n",
    "test2_list = []\n",
    "for i in range(10):\n",
    "    test2_list.append( i )\n",
    "print( test2_list )"
   ]
  },
  {
   "cell_type": "code",
   "execution_count": 16,
   "metadata": {},
   "outputs": [
    {
     "name": "stdout",
     "output_type": "stream",
     "text": [
      "[0, 5, 10, 15, 20, 25, 30, 35, 40, 45]\n",
      "[0, 0, 0, 0, 0, 0, 0, 0, 0, 0]\n",
      "[[0, 0, 0], [0, 0, 0], [0, 0, 0]]\n"
     ]
    }
   ],
   "source": [
    "test_list = [ i * 5 for i in range(10) ] # 0부터 9까지의 10개의 데이터에 5씩 곱한 값으로 리스트 초기화\n",
    "print( test_list )\n",
    "\n",
    "test2_list = [ 0 for i in range(10) ]\n",
    "print( test2_list )\n",
    "\n",
    "test3_list = [ [ 0 for i in range(3) ] for j in range(3) ]\n",
    "print( test3_list )"
   ]
  },
  {
   "cell_type": "code",
   "execution_count": 19,
   "metadata": {},
   "outputs": [
    {
     "name": "stdout",
     "output_type": "stream",
     "text": [
      "0\n",
      "1\n",
      "2\n",
      "3\n",
      "4\n",
      "0\n",
      "1\n",
      "2\n",
      "3\n",
      "4\n"
     ]
    }
   ],
   "source": [
    "# while문\n",
    "# [while 조건:] 에서 조건이 참일 때 계속 반복한다\n",
    "\n",
    "a = 0\n",
    "while a < 5:\n",
    "    print( a )\n",
    "    a = a + 1\n",
    "\n",
    "print(\"=========\")\n",
    "\n",
    "a = 0\n",
    "while True:\n",
    "    print( a )\n",
    "    a = a + 1\n",
    "    if a >= 5:\n",
    "        break # while문 탈출"
   ]
  }
 ],
 "metadata": {
  "kernelspec": {
   "display_name": "Python 3.9.7 ('base')",
   "language": "python",
   "name": "python3"
  },
  "language_info": {
   "codemirror_mode": {
    "name": "ipython",
    "version": 3
   },
   "file_extension": ".py",
   "mimetype": "text/x-python",
   "name": "python",
   "nbconvert_exporter": "python",
   "pygments_lexer": "ipython3",
   "version": "3.9.7"
  },
  "orig_nbformat": 4,
  "vscode": {
   "interpreter": {
    "hash": "54ab389fc926684c2066dd4c8ff30d6ed6bc605b5e029970b638a500d1fda1a0"
   }
  }
 },
 "nbformat": 4,
 "nbformat_minor": 2
}
