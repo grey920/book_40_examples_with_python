{
 "cells": [
  {
   "cell_type": "code",
   "execution_count": 2,
   "metadata": {},
   "outputs": [
    {
     "name": "stdout",
     "output_type": "stream",
     "text": [
      "에러발생\n"
     ]
    }
   ],
   "source": [
    "# NameError: name 'cfdghgmh' is not defined\n",
    "# cfdghgmh\n",
    "\n",
    "try:\n",
    "    cfdghgmh\n",
    "except:\n",
    "    print(\"not defined 에러발생\")"
   ]
  },
  {
   "cell_type": "code",
   "execution_count": 3,
   "metadata": {},
   "outputs": [
    {
     "name": "stdout",
     "output_type": "stream",
     "text": [
      "pass 에러 무시\n"
     ]
    }
   ],
   "source": [
    "try:\n",
    "    cfdghgmh\n",
    "except:\n",
    "    pass\n",
    "print(\"pass 에러 무시\")"
   ]
  },
  {
   "cell_type": "code",
   "execution_count": 4,
   "metadata": {},
   "outputs": [
    {
     "name": "stdout",
     "output_type": "stream",
     "text": [
      "에러발생 원인 :  name 'cfdghgmh' is not defined\n"
     ]
    }
   ],
   "source": [
    "\n",
    "try:\n",
    "    cfdghgmh\n",
    "except Exception as e:\n",
    "    print(\"에러발생 원인 :\", e )"
   ]
  }
 ],
 "metadata": {
  "kernelspec": {
   "display_name": "Python 3.9.7 ('base')",
   "language": "python",
   "name": "python3"
  },
  "language_info": {
   "codemirror_mode": {
    "name": "ipython",
    "version": 3
   },
   "file_extension": ".py",
   "mimetype": "text/x-python",
   "name": "python",
   "nbconvert_exporter": "python",
   "pygments_lexer": "ipython3",
   "version": "3.9.7"
  },
  "orig_nbformat": 4,
  "vscode": {
   "interpreter": {
    "hash": "54ab389fc926684c2066dd4c8ff30d6ed6bc605b5e029970b638a500d1fda1a0"
   }
  }
 },
 "nbformat": 4,
 "nbformat_minor": 2
}
