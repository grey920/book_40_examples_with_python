{
 "cells": [
  {
   "cell_type": "code",
   "execution_count": 1,
   "metadata": {},
   "outputs": [
    {
     "name": "stdout",
     "output_type": "stream",
     "text": [
      "84\n"
     ]
    }
   ],
   "source": [
    "import random as rd\n",
    "# 무작위 값을 반환가는 기능을 가진 random 라이브러리\n",
    "print( rd.randint( 1, 100 ) )"
   ]
  },
  {
   "cell_type": "code",
   "execution_count": 2,
   "metadata": {},
   "outputs": [
    {
     "name": "stdout",
     "output_type": "stream",
     "text": [
      "10\n"
     ]
    }
   ],
   "source": [
    "from random import randint # random 라이브러리에서 randint만 불러와 사용한다. 코드에서 random.을 붙일 필요없이 바로 randint로 사용 가능\n",
    "print( randint( 1, 50 ) )"
   ]
  },
  {
   "cell_type": "code",
   "execution_count": null,
   "metadata": {},
   "outputs": [],
   "source": [
    "from random import * # random 라이브러리에서 모든 기능을 불러온다. 코드에서 라이브러리 이름 없이 바로 모든 기능을 사용할 수 있다\n",
    "print( randint( 1, 50 ) )"
   ]
  }
 ],
 "metadata": {
  "kernelspec": {
   "display_name": "Python 3.9.7 ('base')",
   "language": "python",
   "name": "python3"
  },
  "language_info": {
   "codemirror_mode": {
    "name": "ipython",
    "version": 3
   },
   "file_extension": ".py",
   "mimetype": "text/x-python",
   "name": "python",
   "nbconvert_exporter": "python",
   "pygments_lexer": "ipython3",
   "version": "3.9.7"
  },
  "orig_nbformat": 4,
  "vscode": {
   "interpreter": {
    "hash": "54ab389fc926684c2066dd4c8ff30d6ed6bc605b5e029970b638a500d1fda1a0"
   }
  }
 },
 "nbformat": 4,
 "nbformat_minor": 2
}
