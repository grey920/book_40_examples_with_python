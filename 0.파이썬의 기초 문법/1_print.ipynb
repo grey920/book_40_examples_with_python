{
 "cells": [
  {
   "cell_type": "code",
   "execution_count": 1,
   "metadata": {},
   "outputs": [
    {
     "name": "stdout",
     "output_type": "stream",
     "text": [
      "hello I'm grey\n"
     ]
    }
   ],
   "source": [
    "print( \"hello I'm grey\" )"
   ]
  },
  {
   "cell_type": "code",
   "execution_count": 2,
   "metadata": {},
   "outputs": [
    {
     "name": "stdout",
     "output_type": "stream",
     "text": [
      "hello single quaotation\n"
     ]
    }
   ],
   "source": [
    "print( 'hello single quotation' )"
   ]
  },
  {
   "cell_type": "code",
   "execution_count": 3,
   "metadata": {},
   "outputs": [
    {
     "name": "stdout",
     "output_type": "stream",
     "text": [
      "hello means '안녕하세요' \n"
     ]
    }
   ],
   "source": [
    "print( \"hello means '안녕하세요' \" )"
   ]
  },
  {
   "cell_type": "code",
   "execution_count": 4,
   "metadata": {},
   "outputs": [
    {
     "name": "stdout",
     "output_type": "stream",
     "text": [
      "반대로도 가능해요 \"이렇게요\"\n"
     ]
    }
   ],
   "source": [
    "print( '반대로도 가능해요 \"이렇게요\"' )"
   ]
  },
  {
   "cell_type": "code",
   "execution_count": 6,
   "metadata": {},
   "outputs": [
    {
     "name": "stdout",
     "output_type": "stream",
     "text": [
      "이건 콤마로 따로  썼어요\n"
     ]
    }
   ],
   "source": [
    "print( \"이건\", \"콤마로\", \"따로\", \"\", \"썼어요\")"
   ]
  },
  {
   "cell_type": "code",
   "execution_count": 7,
   "metadata": {},
   "outputs": [
    {
     "name": "stdout",
     "output_type": "stream",
     "text": [
      "이건+로연결했어요\n"
     ]
    }
   ],
   "source": [
    "print(\"이건\" + \"+\" + \"로\" + \"연결했어요\")"
   ]
  },
  {
   "cell_type": "code",
   "execution_count": 10,
   "metadata": {},
   "outputs": [
    {
     "name": "stdout",
     "output_type": "stream",
     "text": [
      "쌍따옴표 세 개면\n",
      "줄바꿈이 되네요\n",
      "아 여러 줄을 쓰나봐요\n"
     ]
    }
   ],
   "source": [
    "print(\"\"\"쌍따옴표 세 개면\n",
    "줄바꿈이 되네요\n",
    "아 여러 줄을 쓰나봐요\"\"\")"
   ]
  },
  {
   "cell_type": "code",
   "execution_count": 13,
   "metadata": {},
   "outputs": [
    {
     "name": "stdout",
     "output_type": "stream",
     "text": [
      "출력하면 한 줄이겠지만 사실 이건 두 줄로 쓴거랍니다코드의 가독성을 위해 역슬래쉬를 사용해요\n"
     ]
    }
   ],
   "source": [
    "print(\"출력하면 한 줄이겠지만 \"\\\n",
    "    \"사실 이건 두 줄로 쓴거랍니다 \"\\\n",
    "    \"코드의 가독성을 위해 역슬래쉬를 사용해요\")"
   ]
  },
  {
   "cell_type": "code",
   "execution_count": 15,
   "metadata": {},
   "outputs": [
    {
     "name": "stdout",
     "output_type": "stream",
     "text": [
      "a값:123 b값:.format(a,b) \n"
     ]
    }
   ],
   "source": [
    "a = 123\n",
    "b = \".format(a,b)\"\n",
    "print( \"a값:{} b값:{} \" .format( a, b ) )"
   ]
  },
  {
   "cell_type": "code",
   "execution_count": null,
   "metadata": {},
   "outputs": [],
   "source": [
    "a = 123\n",
    "b = \"f-string 표현방법\"\n",
    "print(f \"a값:{a} b값:{b}\")"
   ]
  }
 ],
 "metadata": {
  "kernelspec": {
   "display_name": "Python 3.9.7 ('base')",
   "language": "python",
   "name": "python3"
  },
  "language_info": {
   "codemirror_mode": {
    "name": "ipython",
    "version": 3
   },
   "file_extension": ".py",
   "mimetype": "text/x-python",
   "name": "python",
   "nbconvert_exporter": "python",
   "pygments_lexer": "ipython3",
   "version": "3.9.7"
  },
  "orig_nbformat": 4,
  "vscode": {
   "interpreter": {
    "hash": "54ab389fc926684c2066dd4c8ff30d6ed6bc605b5e029970b638a500d1fda1a0"
   }
  }
 },
 "nbformat": 4,
 "nbformat_minor": 2
}
