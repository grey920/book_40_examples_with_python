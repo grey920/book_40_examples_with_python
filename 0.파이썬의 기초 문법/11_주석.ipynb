{
 "cells": [
  {
   "cell_type": "code",
   "execution_count": 2,
   "metadata": {},
   "outputs": [
    {
     "name": "stdout",
     "output_type": "stream",
     "text": [
      "hello\n",
      "hi\n"
     ]
    }
   ],
   "source": [
    "# 주석입니다\n",
    "# 사용자 설명 코드입니다\n",
    "print(\"hello\") # 코드의 줄 끝에 사용할 수 있습니다\n",
    "\n",
    "#print(hello)\n",
    "print( \"hi\" )\n",
    "\n",
    "\"\"\" \n",
    "여러 줄을 입력할 때는\n",
    "쌍따옴표 3개로 시작하고\n",
    "쌍따옴표 3개로 종료하면\n",
    "여러 줄을 입력할 수 있습니다\n",
    "\"\"\"\n",
    "\n",
    "'''\n",
    "또는 여러 줄을 입력할 때는\n",
    "따옴표 3개로 시작하고 \n",
    "따옴표 3개로 종료하면\n",
    "여러 줄을 입력할 수 있습니다\n",
    "'''\n",
    "\n",
    "a_str = \"\"\"\n",
    "여러 줄의 \n",
    "문자열을 입력할 때도\n",
    "쌍따옴표 또는 따옴표\n",
    "3개를 사용할 수 있습니다\n",
    "\"\"\"\n",
    "print( a_str )\n"
   ]
  }
 ],
 "metadata": {
  "kernelspec": {
   "display_name": "Python 3.9.7 ('base')",
   "language": "python",
   "name": "python3"
  },
  "language_info": {
   "codemirror_mode": {
    "name": "ipython",
    "version": 3
   },
   "file_extension": ".py",
   "mimetype": "text/x-python",
   "name": "python",
   "nbconvert_exporter": "python",
   "pygments_lexer": "ipython3",
   "version": "3.9.7"
  },
  "orig_nbformat": 4,
  "vscode": {
   "interpreter": {
    "hash": "54ab389fc926684c2066dd4c8ff30d6ed6bc605b5e029970b638a500d1fda1a0"
   }
  }
 },
 "nbformat": 4,
 "nbformat_minor": 2
}
